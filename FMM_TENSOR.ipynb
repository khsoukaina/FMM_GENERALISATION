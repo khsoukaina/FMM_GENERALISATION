{
  "nbformat": 4,
  "nbformat_minor": 0,
  "metadata": {
    "colab": {
      "provenance": []
    },
    "kernelspec": {
      "name": "python3",
      "display_name": "Python 3"
    },
    "language_info": {
      "name": "python"
    }
  },
  "cells": [
    {
      "cell_type": "code",
      "source": [
        "!pip install tensorly"
      ],
      "metadata": {
        "colab": {
          "base_uri": "https://localhost:8080/"
        },
        "id": "qrs5-6a9_Fpr",
        "outputId": "d465ee2d-3afd-48c2-f846-129698fea41a"
      },
      "execution_count": 2,
      "outputs": [
        {
          "output_type": "stream",
          "name": "stdout",
          "text": [
            "Collecting tensorly\n",
            "  Downloading tensorly-0.9.0-py3-none-any.whl.metadata (8.6 kB)\n",
            "Requirement already satisfied: numpy in /usr/local/lib/python3.11/dist-packages (from tensorly) (1.26.4)\n",
            "Requirement already satisfied: scipy in /usr/local/lib/python3.11/dist-packages (from tensorly) (1.13.1)\n",
            "Downloading tensorly-0.9.0-py3-none-any.whl (7.4 MB)\n",
            "\u001b[2K   \u001b[90m━━━━━━━━━━━━━━━━━━━━━━━━━━━━━━━━━━━━━━━━\u001b[0m \u001b[32m7.4/7.4 MB\u001b[0m \u001b[31m56.3 MB/s\u001b[0m eta \u001b[36m0:00:00\u001b[0m\n",
            "\u001b[?25hInstalling collected packages: tensorly\n",
            "Successfully installed tensorly-0.9.0\n"
          ]
        }
      ]
    },
    {
      "cell_type": "code",
      "execution_count": 3,
      "metadata": {
        "id": "q-Z7dUS4-cdF"
      },
      "outputs": [],
      "source": [
        "import torch\n",
        "import torch.nn as nn\n",
        "import torch.optim as optim\n",
        "import numpy as np\n",
        "from torch.utils.data import DataLoader, Dataset\n",
        "import tensorly as tl\n",
        "from tensorly.decomposition import parafac\n",
        "import matplotlib.pyplot as plt\n"
      ]
    },
    {
      "cell_type": "code",
      "source": [
        "def split_matrix(X, block_size):\n",
        "    I, J = X.shape\n",
        "    blocks = []\n",
        "\n",
        "    for i in range(0, I, block_size):\n",
        "        for j in range(0, J, block_size):\n",
        "            sub_matrix = X[i:i+block_size, j:j+block_size]\n",
        "            blocks.append((i, j, sub_matrix))\n",
        "\n",
        "    return blocks"
      ],
      "metadata": {
        "id": "pm6HpJQA-eeG"
      },
      "execution_count": 4,
      "outputs": []
    },
    {
      "cell_type": "code",
      "source": [
        "def compress_matrix_tensor(X, rank=10):\n",
        "    # Convertir le tensor PyTorch en tensor Tensorly avec tl.tensor\n",
        "    tl_tensor = tl.tensor(X.numpy())  # Utiliser tl.tensor pour la conversion\n",
        "    factors = parafac(tl_tensor, rank=rank)\n",
        "    # Reconstruction à partir des facteurs de la décomposition CP\n",
        "    compressed_tensor = tl.kruskal_to_tensor(factors)\n",
        "    return torch.from_numpy(compressed_tensor.numpy())  # Reconvertir le tensor Tensorly en PyTorch\n"
      ],
      "metadata": {
        "id": "HPrLNss7-gby"
      },
      "execution_count": 21,
      "outputs": []
    },
    {
      "cell_type": "code",
      "source": [
        "class OpenTensorNN(nn.Module):\n",
        "    def __init__(self, input_dim, hidden_dim, output_dim):\n",
        "        super(OpenTensorNN, self).__init__()\n",
        "\n",
        "        self.fc1 = nn.Linear(input_dim, hidden_dim)\n",
        "        self.relu = nn.ReLU()\n",
        "        self.fc2 = nn.Linear(hidden_dim, output_dim)\n",
        "\n",
        "    def forward(self, x):\n",
        "        x = self.fc1(x)\n",
        "        x = self.relu(x)\n",
        "        x = self.fc2(x)\n",
        "        return x"
      ],
      "metadata": {
        "id": "ydoQxSb2-iR5"
      },
      "execution_count": 14,
      "outputs": []
    },
    {
      "cell_type": "code",
      "source": [
        "def train_model(model, dataloader, epochs=10, lr=0.001):\n",
        "    criterion = nn.MSELoss()\n",
        "    optimizer = optim.Adam(model.parameters(), lr=lr)\n",
        "\n",
        "    loss_history = []\n",
        "\n",
        "    for epoch in range(epochs):\n",
        "        epoch_loss = 0\n",
        "\n",
        "        for inputs, targets in dataloader:\n",
        "            inputs = inputs.view(inputs.shape[0], -1)\n",
        "            targets = targets.view(targets.shape[0], -1)\n",
        "\n",
        "            optimizer.zero_grad()\n",
        "            outputs = model(inputs)\n",
        "            loss = criterion(outputs, targets)\n",
        "            loss.backward()\n",
        "            optimizer.step()\n",
        "\n",
        "            epoch_loss += loss.item()\n",
        "\n",
        "        avg_loss = epoch_loss / len(dataloader)\n",
        "        loss_history.append(avg_loss)\n",
        "\n",
        "        print(f\"Epoch [{epoch+1}/{epochs}], Loss: {avg_loss:.4f}\")\n",
        "\n",
        "    # Visualisation de la courbe de perte\n",
        "    plt.figure(figsize=(8,5))\n",
        "    plt.plot(range(1, epochs+1), loss_history, label=\"Loss\", marker=\"o\")\n",
        "    plt.xlabel(\"Epochs\")\n",
        "    plt.ylabel(\"Loss\")\n",
        "    plt.title(\"Évolution de la Perte du Modèle\")\n",
        "    plt.legend()\n",
        "    plt.grid()\n",
        "    plt.show()\n"
      ],
      "metadata": {
        "id": "tuZHr8Un-kGJ"
      },
      "execution_count": 15,
      "outputs": []
    },
    {
      "cell_type": "code",
      "source": [
        "# Visualiser les résultats\n",
        "def visualize_results(model, dataloader):\n",
        "    model.eval()\n",
        "\n",
        "    inputs, targets = next(iter(dataloader))\n",
        "    inputs = inputs.view(inputs.shape[0], -1)\n",
        "    targets = targets.view(targets.shape[0], -1)\n",
        "\n",
        "    outputs = model(inputs).detach()\n",
        "\n",
        "    idx = 0\n",
        "    original = targets[idx].view(500, 500).cpu().numpy()\n",
        "    reconstructed = outputs[idx].view(500, 500).cpu().numpy()\n",
        "\n",
        "    fig, ax = plt.subplots(1, 2, figsize=(10,5))\n",
        "    ax[0].imshow(original, cmap=\"viridis\")\n",
        "    ax[0].set_title(\"Matrice Originale\")\n",
        "\n",
        "    ax[1].imshow(reconstructed, cmap=\"viridis\")\n",
        "    ax[1].set_title(\"Matrice Reconstituée\")\n",
        "\n",
        "    plt.show()"
      ],
      "metadata": {
        "id": "WmK8iqRc-tRo"
      },
      "execution_count": 16,
      "outputs": []
    },
    {
      "cell_type": "code",
      "source": [
        "X_large = torch.rand(5000, 5000)\n",
        "\n",
        "block_size = 500\n",
        "blocks = split_matrix(X_large, block_size)\n",
        "\n",
        "# Compression des blocs avec une décomposition tensorielle CP\n",
        "compressed_blocks = [(i, j, compress_matrix_tensor(block)) for i, j, block in blocks]\n",
        "\n",
        "# Définir les dimensions d'entrée\n",
        "input_dim = block_size ** 2\n",
        "hidden_dim, output_dim = 256, input_dim\n",
        "\n",
        "model = OpenTensorNN(input_dim, hidden_dim, output_dim)\n",
        "\n",
        "# Préparation des données pour le DataLoader\n",
        "dataset = [(block.flatten(), block.flatten()) for _, _, block in compressed_blocks]\n",
        "dataloader = DataLoader(dataset, batch_size=16, shuffle=True)\n",
        "\n",
        "# Entraînement et visualisation\n",
        "train_model(model, dataloader)\n",
        "visualize_results(model, dataloader)"
      ],
      "metadata": {
        "colab": {
          "base_uri": "https://localhost:8080/",
          "height": 388
        },
        "id": "fp3f8fsM-mSQ",
        "outputId": "fe3a8d2f-90f5-482a-99ca-7b1d2c721215"
      },
      "execution_count": 22,
      "outputs": [
        {
          "output_type": "error",
          "ename": "AttributeError",
          "evalue": "module 'tensorly.backend' has no attribute 'kruskal_to_tensor'",
          "traceback": [
            "\u001b[0;31m---------------------------------------------------------------------------\u001b[0m",
            "\u001b[0;31mAttributeError\u001b[0m                            Traceback (most recent call last)",
            "\u001b[0;32m<ipython-input-22-ec72aa2bed08>\u001b[0m in \u001b[0;36m<cell line: 0>\u001b[0;34m()\u001b[0m\n\u001b[1;32m      5\u001b[0m \u001b[0;34m\u001b[0m\u001b[0m\n\u001b[1;32m      6\u001b[0m \u001b[0;31m# Compression des blocs avec une décomposition tensorielle CP\u001b[0m\u001b[0;34m\u001b[0m\u001b[0;34m\u001b[0m\u001b[0m\n\u001b[0;32m----> 7\u001b[0;31m \u001b[0mcompressed_blocks\u001b[0m \u001b[0;34m=\u001b[0m \u001b[0;34m[\u001b[0m\u001b[0;34m(\u001b[0m\u001b[0mi\u001b[0m\u001b[0;34m,\u001b[0m \u001b[0mj\u001b[0m\u001b[0;34m,\u001b[0m \u001b[0mcompress_matrix_tensor\u001b[0m\u001b[0;34m(\u001b[0m\u001b[0mblock\u001b[0m\u001b[0;34m)\u001b[0m\u001b[0;34m)\u001b[0m \u001b[0;32mfor\u001b[0m \u001b[0mi\u001b[0m\u001b[0;34m,\u001b[0m \u001b[0mj\u001b[0m\u001b[0;34m,\u001b[0m \u001b[0mblock\u001b[0m \u001b[0;32min\u001b[0m \u001b[0mblocks\u001b[0m\u001b[0;34m]\u001b[0m\u001b[0;34m\u001b[0m\u001b[0;34m\u001b[0m\u001b[0m\n\u001b[0m\u001b[1;32m      8\u001b[0m \u001b[0;34m\u001b[0m\u001b[0m\n\u001b[1;32m      9\u001b[0m \u001b[0;31m# Définir les dimensions d'entrée\u001b[0m\u001b[0;34m\u001b[0m\u001b[0;34m\u001b[0m\u001b[0m\n",
            "\u001b[0;32m<ipython-input-22-ec72aa2bed08>\u001b[0m in \u001b[0;36m<listcomp>\u001b[0;34m(.0)\u001b[0m\n\u001b[1;32m      5\u001b[0m \u001b[0;34m\u001b[0m\u001b[0m\n\u001b[1;32m      6\u001b[0m \u001b[0;31m# Compression des blocs avec une décomposition tensorielle CP\u001b[0m\u001b[0;34m\u001b[0m\u001b[0;34m\u001b[0m\u001b[0m\n\u001b[0;32m----> 7\u001b[0;31m \u001b[0mcompressed_blocks\u001b[0m \u001b[0;34m=\u001b[0m \u001b[0;34m[\u001b[0m\u001b[0;34m(\u001b[0m\u001b[0mi\u001b[0m\u001b[0;34m,\u001b[0m \u001b[0mj\u001b[0m\u001b[0;34m,\u001b[0m \u001b[0mcompress_matrix_tensor\u001b[0m\u001b[0;34m(\u001b[0m\u001b[0mblock\u001b[0m\u001b[0;34m)\u001b[0m\u001b[0;34m)\u001b[0m \u001b[0;32mfor\u001b[0m \u001b[0mi\u001b[0m\u001b[0;34m,\u001b[0m \u001b[0mj\u001b[0m\u001b[0;34m,\u001b[0m \u001b[0mblock\u001b[0m \u001b[0;32min\u001b[0m \u001b[0mblocks\u001b[0m\u001b[0;34m]\u001b[0m\u001b[0;34m\u001b[0m\u001b[0;34m\u001b[0m\u001b[0m\n\u001b[0m\u001b[1;32m      8\u001b[0m \u001b[0;34m\u001b[0m\u001b[0m\n\u001b[1;32m      9\u001b[0m \u001b[0;31m# Définir les dimensions d'entrée\u001b[0m\u001b[0;34m\u001b[0m\u001b[0;34m\u001b[0m\u001b[0m\n",
            "\u001b[0;32m<ipython-input-21-b80bfa7b9954>\u001b[0m in \u001b[0;36mcompress_matrix_tensor\u001b[0;34m(X, rank)\u001b[0m\n\u001b[1;32m      4\u001b[0m     \u001b[0mfactors\u001b[0m \u001b[0;34m=\u001b[0m \u001b[0mparafac\u001b[0m\u001b[0;34m(\u001b[0m\u001b[0mtl_tensor\u001b[0m\u001b[0;34m,\u001b[0m \u001b[0mrank\u001b[0m\u001b[0;34m=\u001b[0m\u001b[0mrank\u001b[0m\u001b[0;34m)\u001b[0m\u001b[0;34m\u001b[0m\u001b[0;34m\u001b[0m\u001b[0m\n\u001b[1;32m      5\u001b[0m     \u001b[0;31m# Reconstruction à partir des facteurs de la décomposition CP\u001b[0m\u001b[0;34m\u001b[0m\u001b[0;34m\u001b[0m\u001b[0m\n\u001b[0;32m----> 6\u001b[0;31m     \u001b[0mcompressed_tensor\u001b[0m \u001b[0;34m=\u001b[0m \u001b[0mtl\u001b[0m\u001b[0;34m.\u001b[0m\u001b[0mkruskal_to_tensor\u001b[0m\u001b[0;34m(\u001b[0m\u001b[0mfactors\u001b[0m\u001b[0;34m)\u001b[0m\u001b[0;34m\u001b[0m\u001b[0;34m\u001b[0m\u001b[0m\n\u001b[0m\u001b[1;32m      7\u001b[0m     \u001b[0;32mreturn\u001b[0m \u001b[0mtorch\u001b[0m\u001b[0;34m.\u001b[0m\u001b[0mfrom_numpy\u001b[0m\u001b[0;34m(\u001b[0m\u001b[0mcompressed_tensor\u001b[0m\u001b[0;34m.\u001b[0m\u001b[0mnumpy\u001b[0m\u001b[0;34m(\u001b[0m\u001b[0;34m)\u001b[0m\u001b[0;34m)\u001b[0m  \u001b[0;31m# Reconvertir le tensor Tensorly en PyTorch\u001b[0m\u001b[0;34m\u001b[0m\u001b[0;34m\u001b[0m\u001b[0m\n",
            "\u001b[0;31mAttributeError\u001b[0m: module 'tensorly.backend' has no attribute 'kruskal_to_tensor'"
          ]
        }
      ]
    },
    {
      "cell_type": "markdown",
      "source": [],
      "metadata": {
        "id": "oMGQUu-2AqVY"
      }
    }
  ]
}